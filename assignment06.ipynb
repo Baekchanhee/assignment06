{
 "cells": [
  {
   "cell_type": "markdown",
   "metadata": {},
   "source": [
    "# Programming Assignment: Straight-line fit\n",
    "## Name : 백찬희\n",
    "## Student ID : 20142503\n",
    "## Github : https://github.com/Baekchanhee/assignment06.git"
   ]
  },
  {
   "cell_type": "markdown",
   "metadata": {},
   "source": [
    "# Plot the noisy data & clean data"
   ]
  },
  {
   "cell_type": "code",
   "execution_count": 2,
   "metadata": {},
   "outputs": [
    {
     "data": {
      "image/png": "[encoded data removed]",
      "text/plain": [
       "<Figure size 432x288 with 1 Axes>"
      ]
     },
     "metadata": {},
     "output_type": "display_data"
    },
    {
     "data": {
      "image/png": "[encoded data removed]",
      "text/plain": [
       "<Figure size 432x288 with 1 Axes>"
      ]
     },
     "metadata": {},
     "output_type": "display_data"
    }
   ],
   "source": [
    "import numpy as np\n",
    "import matplotlib.pyplot as plt\n",
    "\n",
    "num     = 201\n",
    "std     = 20\n",
    "a       = 2 \n",
    "b       = 10\n",
    "\n",
    "n       = np.random.rand(num)\n",
    "nn      = n - np.mean(n)\n",
    "x       = np.linspace(-100,100,num)\n",
    "y1      = a * x + nn * std + b \n",
    "y2      = a * x + b\n",
    "\n",
    "plt.plot(x, y1, 'b.') # plot noisy data\n",
    "plt.show()\n",
    "\n",
    "plt.plot(x, y2, 'k--') # plot clean data\n",
    "plt.show()\n",
    "\n",
    "# x  : x-coordinate data\n",
    "# y1 : (noisy) y-coordinate data\n",
    "# y2 : (clean) y-coordinate data \n",
    "# y = f(x) = a * x + b"
   ]
  },
  {
   "cell_type": "markdown",
   "metadata": {},
   "source": [
    "# Plot the line that fits the noisy data by the least square error"
   ]
  },
  {
   "cell_type": "markdown",
   "metadata": {},
   "source": [
    "## Minimize   $||A\\theta - y_{1}||^2$"
   ]
  },
  {
   "cell_type": "code",
   "execution_count": 3,
   "metadata": {},
   "outputs": [
    {
     "data": {
      "text/plain": [
       "array([[   1., -100.],\n",
       "       [   1.,  -99.],\n",
       "       [   1.,  -98.],\n",
       "       [   1.,  -97.],\n",
       "       [   1.,  -96.],\n",
       "       [   1.,  -95.],\n",
       "       [   1.,  -94.],\n",
       "       [   1.,  -93.],\n",
       "       [   1.,  -92.],\n",
       "       [   1.,  -91.],\n",
       "       [   1.,  -90.],\n",
       "       [   1.,  -89.],\n",
       "       [   1.,  -88.],\n",
       "       [   1.,  -87.],\n",
       "       [   1.,  -86.],\n",
       "       [   1.,  -85.],\n",
       "       [   1.,  -84.],\n",
       "       [   1.,  -83.],\n",
       "       [   1.,  -82.],\n",
       "       [   1.,  -81.],\n",
       "       [   1.,  -80.],\n",
       "       [   1.,  -79.],\n",
       "       [   1.,  -78.],\n",
       "       [   1.,  -77.],\n",
       "       [   1.,  -76.],\n",
       "       [   1.,  -75.],\n",
       "       [   1.,  -74.],\n",
       "       [   1.,  -73.],\n",
       "       [   1.,  -72.],\n",
       "       [   1.,  -71.],\n",
       "       [   1.,  -70.],\n",
       "       [   1.,  -69.],\n",
       "       [   1.,  -68.],\n",
       "       [   1.,  -67.],\n",
       "       [   1.,  -66.],\n",
       "       [   1.,  -65.],\n",
       "       [   1.,  -64.],\n",
       "       [   1.,  -63.],\n",
       "       [   1.,  -62.],\n",
       "       [   1.,  -61.],\n",
       "       [   1.,  -60.],\n",
       "       [   1.,  -59.],\n",
       "       [   1.,  -58.],\n",
       "       [   1.,  -57.],\n",
       "       [   1.,  -56.],\n",
       "       [   1.,  -55.],\n",
       "       [   1.,  -54.],\n",
       "       [   1.,  -53.],\n",
       "       [   1.,  -52.],\n",
       "       [   1.,  -51.],\n",
       "       [   1.,  -50.],\n",
       "       [   1.,  -49.],\n",
       "       [   1.,  -48.],\n",
       "       [   1.,  -47.],\n",
       "       [   1.,  -46.],\n",
       "       [   1.,  -45.],\n",
       "       [   1.,  -44.],\n",
       "       [   1.,  -43.],\n",
       "       [   1.,  -42.],\n",
       "       [   1.,  -41.],\n",
       "       [   1.,  -40.],\n",
       "       [   1.,  -39.],\n",
       "       [   1.,  -38.],\n",
       "       [   1.,  -37.],\n",
       "       [   1.,  -36.],\n",
       "       [   1.,  -35.],\n",
       "       [   1.,  -34.],\n",
       "       [   1.,  -33.],\n",
       "       [   1.,  -32.],\n",
       "       [   1.,  -31.],\n",
       "       [   1.,  -30.],\n",
       "       [   1.,  -29.],\n",
       "       [   1.,  -28.],\n",
       "       [   1.,  -27.],\n",
       "       [   1.,  -26.],\n",
       "       [   1.,  -25.],\n",
       "       [   1.,  -24.],\n",
       "       [   1.,  -23.],\n",
       "       [   1.,  -22.],\n",
       "       [   1.,  -21.],\n",
       "       [   1.,  -20.],\n",
       "       [   1.,  -19.],\n",
       "       [   1.,  -18.],\n",
       "       [   1.,  -17.],\n",
       "       [   1.,  -16.],\n",
       "       [   1.,  -15.],\n",
       "       [   1.,  -14.],\n",
       "       [   1.,  -13.],\n",
       "       [   1.,  -12.],\n",
       "       [   1.,  -11.],\n",
       "       [   1.,  -10.],\n",
       "       [   1.,   -9.],\n",
       "       [   1.,   -8.],\n",
       "       [   1.,   -7.],\n",
       "       [   1.,   -6.],\n",
       "       [   1.,   -5.],\n",
       "       [   1.,   -4.],\n",
       "       [   1.,   -3.],\n",
       "       [   1.,   -2.],\n",
       "       [   1.,   -1.],\n",
       "       [   1.,    0.],\n",
       "       [   1.,    1.],\n",
       "       [   1.,    2.],\n",
       "       [   1.,    3.],\n",
       "       [   1.,    4.],\n",
       "       [   1.,    5.],\n",
       "       [   1.,    6.],\n",
       "       [   1.,    7.],\n",
       "       [   1.,    8.],\n",
       "       [   1.,    9.],\n",
       "       [   1.,   10.],\n",
       "       [   1.,   11.],\n",
       "       [   1.,   12.],\n",
       "       [   1.,   13.],\n",
       "       [   1.,   14.],\n",
       "       [   1.,   15.],\n",
       "       [   1.,   16.],\n",
       "       [   1.,   17.],\n",
       "       [   1.,   18.],\n",
       "       [   1.,   19.],\n",
       "       [   1.,   20.],\n",
       "       [   1.,   21.],\n",
       "       [   1.,   22.],\n",
       "       [   1.,   23.],\n",
       "       [   1.,   24.],\n",
       "       [   1.,   25.],\n",
       "       [   1.,   26.],\n",
       "       [   1.,   27.],\n",
       "       [   1.,   28.],\n",
       "       [   1.,   29.],\n",
       "       [   1.,   30.],\n",
       "       [   1.,   31.],\n",
       "       [   1.,   32.],\n",
       "       [   1.,   33.],\n",
       "       [   1.,   34.],\n",
       "       [   1.,   35.],\n",
       "       [   1.,   36.],\n",
       "       [   1.,   37.],\n",
       "       [   1.,   38.],\n",
       "       [   1.,   39.],\n",
       "       [   1.,   40.],\n",
       "       [   1.,   41.],\n",
       "       [   1.,   42.],\n",
       "       [   1.,   43.],\n",
       "       [   1.,   44.],\n",
       "       [   1.,   45.],\n",
       "       [   1.,   46.],\n",
       "       [   1.,   47.],\n",
       "       [   1.,   48.],\n",
       "       [   1.,   49.],\n",
       "       [   1.,   50.],\n",
       "       [   1.,   51.],\n",
       "       [   1.,   52.],\n",
       "       [   1.,   53.],\n",
       "       [   1.,   54.],\n",
       "       [   1.,   55.],\n",
       "       [   1.,   56.],\n",
       "       [   1.,   57.],\n",
       "       [   1.,   58.],\n",
       "       [   1.,   59.],\n",
       "       [   1.,   60.],\n",
       "       [   1.,   61.],\n",
       "       [   1.,   62.],\n",
       "       [   1.,   63.],\n",
       "       [   1.,   64.],\n",
       "       [   1.,   65.],\n",
       "       [   1.,   66.],\n",
       "       [   1.,   67.],\n",
       "       [   1.,   68.],\n",
       "       [   1.,   69.],\n",
       "       [   1.,   70.],\n",
       "       [   1.,   71.],\n",
       "       [   1.,   72.],\n",
       "       [   1.,   73.],\n",
       "       [   1.,   74.],\n",
       "       [   1.,   75.],\n",
       "       [   1.,   76.],\n",
       "       [   1.,   77.],\n",
       "       [   1.,   78.],\n",
       "       [   1.,   79.],\n",
       "       [   1.,   80.],\n",
       "       [   1.,   81.],\n",
       "       [   1.,   82.],\n",
       "       [   1.,   83.],\n",
       "       [   1.,   84.],\n",
       "       [   1.,   85.],\n",
       "       [   1.,   86.],\n",
       "       [   1.,   87.],\n",
       "       [   1.,   88.],\n",
       "       [   1.,   89.],\n",
       "       [   1.,   90.],\n",
       "       [   1.,   91.],\n",
       "       [   1.,   92.],\n",
       "       [   1.,   93.],\n",
       "       [   1.,   94.],\n",
       "       [   1.,   95.],\n",
       "       [   1.,   96.],\n",
       "       [   1.,   97.],\n",
       "       [   1.,   98.],\n",
       "       [   1.,   99.],\n",
       "       [   1.,  100.]])"
      ]
     },
     "execution_count": 3,
     "metadata": {},
     "output_type": "execute_result"
    }
   ],
   "source": [
    "A = np.c_[ np.ones(num), x]\n",
    "A"
   ]
  },
  {
   "cell_type": "markdown",
   "metadata": {},
   "source": [
    "##  $\\theta = (A^TA)^{-1}A^Ty_{1}$"
   ]
  },
  {
   "cell_type": "code",
   "execution_count": 4,
   "metadata": {},
   "outputs": [
    {
     "data": {
      "text/plain": [
       "array([10.        ,  2.01527914])"
      ]
     },
     "execution_count": 4,
     "metadata": {},
     "output_type": "execute_result"
    }
   ],
   "source": [
    "AT = np.transpose(A)                  # transpose of A\n",
    "o = np.linalg.inv((np.matmul(AT, A))) # inverse of (transpose of A * A)\n",
    "o = np.matmul(o, AT)\n",
    "o = np.matmul(o, y1)\n",
    "o"
   ]
  },
  {
   "cell_type": "markdown",
   "metadata": {},
   "source": [
    "## model : $\\hat{f}(x) = \\theta_{1} + \\theta_{2}x$"
   ]
  },
  {
   "cell_type": "code",
   "execution_count": 5,
   "metadata": {},
   "outputs": [],
   "source": [
    "x_line = np.arange(-100, 100.001, 0.01)      #range -100 ~ 100\n",
    "a = np.c_[ np.ones(x_line.shape[0]), x_line]\n",
    "model = np.matmul(a, o)"
   ]
  },
  {
   "cell_type": "code",
   "execution_count": 6,
   "metadata": {},
   "outputs": [
    {
     "data": {
      "image/png": "[encoded data removed]",
      "text/plain": [
       "<Figure size 432x288 with 1 Axes>"
      ]
     },
     "metadata": {},
     "output_type": "display_data"
    }
   ],
   "source": [
    "plt.plot(x, y1, 'b.', label=\"noisy_data\") # plot noisy data\n",
    "plt.plot(x_line, model, 'r', label=\"model\") # plot model\n",
    "plt.legend(bbox_to_anchor=(1.05, 1), loc=2, borderaxespad=0.)\n",
    "plt.show()"
   ]
  }
 ],
 "metadata": {
  "kernelspec": {
   "display_name": "Python 3",
   "language": "python",
   "name": "python3"
  },
  "language_info": {
   "codemirror_mode": {
    "name": "ipython",
    "version": 3
   },
   "file_extension": ".py",
   "mimetype": "text/x-python",
   "name": "python",
   "nbconvert_exporter": "python",
   "pygments_lexer": "ipython3",
   "version": "3.6.5"
  }
 },
 "nbformat": 4,
 "nbformat_minor": 2
}
